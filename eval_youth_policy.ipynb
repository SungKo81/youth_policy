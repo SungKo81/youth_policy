{
 "cells": [
  {
   "cell_type": "code",
   "execution_count": 1,
   "metadata": {},
   "outputs": [
    {
     "data": {
      "text/plain": [
       "True"
      ]
     },
     "execution_count": 1,
     "metadata": {},
     "output_type": "execute_result"
    }
   ],
   "source": [
    "from langchain_community.document_loaders import PyPDFLoader\n",
    "from langchain_chroma import Chroma\n",
    "from langchain_openai import OpenAIEmbeddings, ChatOpenAI\n",
    "from langchain_text_splitters import RecursiveCharacterTextSplitter\n",
    "from langchain.prompts import ChatPromptTemplate\n",
    "from langchain_core.runnables import RunnablePassthrough\n",
    "from langchain_core.output_parsers import StrOutputParser\n",
    "from uuid import uuid4\n",
    "from dotenv import load_dotenv\n",
    "load_dotenv()\n"
   ]
  },
  {
   "cell_type": "code",
   "execution_count": 2,
   "metadata": {},
   "outputs": [
    {
     "name": "stdout",
     "output_type": "stream",
     "text": [
      "<class 'list'>\n"
     ]
    }
   ],
   "source": [
    "# PDF 로딩\n",
    "path = \"data//raw//청년 법령집.pdf\"\n",
    "loader = PyPDFLoader(file_path=path)\n",
    "docs = loader.load()\n",
    "print(type(docs))\n",
    "\n",
    "for i in range(len(docs)):\n",
    "    docs[i].page_content = (docs[i].page_content\n",
    "                            .replace('발  간  등  록  번  호','')\n",
    "                            .replace('법제처 국가법령정보센터', '')\n",
    "                            .replace('법제처', '')\n",
    "                            .replace('Korea Law Service Center', '')\n",
    "                            .replace('국가법령정보센터', '')\n",
    "                            .replace('\\n', ' ')\n",
    "                            .replace('\\t', ' ')\n",
    "                            )\n"
   ]
  },
  {
   "cell_type": "code",
   "execution_count": 3,
   "metadata": {},
   "outputs": [
    {
     "ename": "IndexError",
     "evalue": "pop from empty list",
     "output_type": "error",
     "traceback": [
      "\u001b[1;31m---------------------------------------------------------------------------\u001b[0m",
      "\u001b[1;31mIndexError\u001b[0m                                Traceback (most recent call last)",
      "Cell \u001b[1;32mIn[3], line 10\u001b[0m\n\u001b[0;32m      8\u001b[0m eval_context_list \u001b[38;5;241m=\u001b[39m []\n\u001b[0;32m      9\u001b[0m \u001b[38;5;28;01mwhile\u001b[39;00m \u001b[38;5;28mlen\u001b[39m(eval_context_list) \u001b[38;5;241m<\u001b[39m total_samples:\n\u001b[1;32m---> 10\u001b[0m     idx \u001b[38;5;241m=\u001b[39m \u001b[43midx_list\u001b[49m\u001b[38;5;241;43m.\u001b[39;49m\u001b[43mpop\u001b[49m\u001b[43m(\u001b[49m\u001b[43m)\u001b[49m\n\u001b[0;32m     11\u001b[0m     context \u001b[38;5;241m=\u001b[39m docs[idx]\u001b[38;5;241m.\u001b[39mpage_content\n\u001b[0;32m     12\u001b[0m     \u001b[38;5;28;01mif\u001b[39;00m \u001b[38;5;28mlen\u001b[39m(context) \u001b[38;5;241m>\u001b[39m \u001b[38;5;241m50\u001b[39m: \u001b[38;5;66;03m# 50글자 이상인 text만 사용\u001b[39;00m\n",
      "\u001b[1;31mIndexError\u001b[0m: pop from empty list"
     ]
    }
   ],
   "source": [
    "### 평가 데이터로 사용할 context 추출\n",
    "total_samples = 5\n",
    "\n",
    "# index shuffle 후 total_samples만큼 context 추출\n",
    "idx_list = list(range(len(docs)))\n",
    "random.shuffle(idx_list)\n",
    "\n",
    "eval_context_list = []\n",
    "while len(eval_context_list) < total_samples:\n",
    "    idx = idx_list.pop()\n",
    "    context = docs[idx].page_content\n",
    "    if len(context) > 50: # 50글자 이상인 text만 사용\n",
    "        eval_context_list.append(context)\n",
    "\n",
    "len(eval_context_list)"
   ]
  },
  {
   "cell_type": "code",
   "execution_count": 4,
   "metadata": {},
   "outputs": [],
   "source": [
    "# user_input: 질문\n",
    "# qa_context: 질문 답변 쌍을 만들 때 참고한 context\n",
    "# retrieved_contexts: 검색된 문서의 내용은 실제 RAG 실행시 넣는다.\n",
    "# response: 모델의 답변 - 실제 RAG 실행시 넣는다.\n",
    "# reference: 정답\n",
    "class EvalDatasetSchema(BaseModel):\n",
    "    user_input: str = Field(..., title=\"질문(question)\")\n",
    "    qa_context: list[str] = Field(..., title=\"질문-답변 쌍을 만들 때 참조한 context.\")\n",
    "    reference: str = Field(..., title=\"질문의 정답(ground truth)\")\n",
    "\n",
    "eval_model = ChatOpenAI(model=\"gpt-4o\")\n",
    "parser = JsonOutputParser(pydantic_object=EvalDatasetSchema)\n",
    "\n",
    "prompt_template = PromptTemplate.from_template(\n",
    "    template=dedent(\"\"\"\n",
    "        당신은 RAG 평가를 위해 질문과 정답 쌍을 생성하는 인공지능 비서입니다.\n",
    "        다음 [Context] 에 문서가 주어지면 해당 문서를 기반으로 {num_questions}개 질문-정답 쌍을 생성하세요. \n",
    "        \n",
    "        질문과 정답을 생성한 후 아래의 출력 형식 GUIDE 에 맞게 생성합니다.\n",
    "        질문은 반드시 [Context] 문서에 있는 정보를 바탕으로 생성해야 합니다. [Context]에 없는 내용을 가지고 질문-정답을 절대 만들면 안됩니다.\n",
    "        질문은 간결하게 작성합니다.\n",
    "        하나의 질문에는 한 가지씩만 내용만 작성합니다. \n",
    "        질문을 만들 때 \"제공된 문맥에서\", \"문서에 설명된 대로\", \"주어진 문서에 따라\" 또는 이와 유사한 말을 하지 마세요.\n",
    "        정답은 반드시 [Context]에 있는 정보를 바탕으로 작성합니다. 없는 내용을 추가하지 않습니다.\n",
    "        질문과 정답을 만들고 그 내용이 [Context] 에 있는 항목인지 다시 한번 확인합니다.\n",
    "        생성된 질문-답변 쌍은 반드시 dictionary 형태로 정의하고 list로 묶어서 반환해야 합니다.\n",
    "        질문-답변 쌍은 반드시 {num_questions}개를 만들어야 합니다.\n",
    "\n",
    "        출력 형식: {format_instructions}\n",
    "                    \n",
    "        [Context]\n",
    "        {context}\n",
    "        \"\"\"\n",
    "    ),\n",
    "    partial_variables={\"format_instructions\":parser.get_format_instructions()}\n",
    ")\n",
    "\n",
    "eval_dataset_generator = prompt_template | eval_model | parser"
   ]
  },
  {
   "cell_type": "code",
   "execution_count": 5,
   "metadata": {},
   "outputs": [],
   "source": [
    "# eval_context_list\n",
    "eval_data_list = []\n",
    "num_questions = 5\n",
    "\n",
    "for context in eval_context_list:\n",
    "    _eval_data_list = eval_dataset_generator.invoke({\"context\":context, \"num_questions\":num_questions})\n",
    "    eval_data_list.extend(_eval_data_list)\n",
    "\n",
    "eval_df = pd.DataFrame(eval_data_list)\n",
    "eval_df.shape"
   ]
  },
  {
   "cell_type": "code",
   "execution_count": 7,
   "metadata": {},
   "outputs": [
    {
     "data": {
      "text/html": [
       "<div>\n",
       "<style scoped>\n",
       "    .dataframe tbody tr th:only-of-type {\n",
       "        vertical-align: middle;\n",
       "    }\n",
       "\n",
       "    .dataframe tbody tr th {\n",
       "        vertical-align: top;\n",
       "    }\n",
       "\n",
       "    .dataframe thead th {\n",
       "        text-align: right;\n",
       "    }\n",
       "</style>\n",
       "<table border=\"1\" class=\"dataframe\">\n",
       "  <thead>\n",
       "    <tr style=\"text-align: right;\">\n",
       "      <th></th>\n",
       "      <th>user_input</th>\n",
       "      <th>qa_context</th>\n",
       "      <th>reference</th>\n",
       "    </tr>\n",
       "  </thead>\n",
       "  <tbody>\n",
       "    <tr>\n",
       "      <th>0</th>\n",
       "      <td>광양시 청년일자리 창출 조례의 목적은 무엇인가?</td>\n",
       "      <td>[광양시 청년일자리 창출 조례는 지역경제 활성화와 사회 안정에 이바지하기 위하여 청...</td>\n",
       "      <td>광양시 지역경제 활성화와 사회 안정에 이바지하기 위하여 청년일자리 창출 촉진에 관한...</td>\n",
       "    </tr>\n",
       "    <tr>\n",
       "      <th>1</th>\n",
       "      <td>조례에서 '청년'의 정의는 무엇인가?</td>\n",
       "      <td>[조례에서 '청년'이란 광양시에 주소를 가진 「청년고용촉진 특별법」 제2조 제1호의...</td>\n",
       "      <td>광양시에 주소를 가진 「청년고용촉진 특별법」 제2조 제1호의 사람이다.</td>\n",
       "    </tr>\n",
       "    <tr>\n",
       "      <th>2</th>\n",
       "      <td>광양시장은 청년일자리 창출을 위해 어떤 대책을 수립해야 하는가?</td>\n",
       "      <td>[광양시장은 청년일자리 창출을 위하여 일자리 창출 및 인력수급 전망, 청년 미취업자...</td>\n",
       "      <td>일자리 창출 및 인력수급 전망, 청년 미취업자 실태조사 및 지원 방안, 직업지도, ...</td>\n",
       "    </tr>\n",
       "    <tr>\n",
       "      <th>3</th>\n",
       "      <td>청년일자리 창출 계획에는 어떤 사항이 포함되어야 하는가?</td>\n",
       "      <td>[청년일자리 창출 계획에는 목표와 방향, 교육ㆍ홍보, 채용행사 등 시책, 시 소재 ...</td>\n",
       "      <td>목표와 방향, 교육ㆍ홍보, 채용행사 등 시책, 시 소재 공공기관 및 기업 등과의 협...</td>\n",
       "    </tr>\n",
       "    <tr>\n",
       "      <th>4</th>\n",
       "      <td>광양시장은 청년 미취업자 실태조사를 왜 실시하는가?</td>\n",
       "      <td>[광양시장은 청년 미취업자에 대한 실태조사를 실시하여 청년일자리 창출과 청년 고용촉...</td>\n",
       "      <td>청년일자리 창출과 청년 고용촉진을 위한 정책 및 창출계획 수립의 기초자료로 활용하기...</td>\n",
       "    </tr>\n",
       "    <tr>\n",
       "      <th>5</th>\n",
       "      <td>광양시 청년일자리 창출 촉진에 관한 조례는 언제 제정되었나요?</td>\n",
       "      <td>[부칙(제정 2016. 6. 29. 조례 제1433호)]</td>\n",
       "      <td>2016년 6월 29일에 제정되었습니다.</td>\n",
       "    </tr>\n",
       "    <tr>\n",
       "      <th>6</th>\n",
       "      <td>광양시 청년일자리 창출 촉진에 관한 조례의 시행일은 언제인가요?</td>\n",
       "      <td>[제1조(시행일) 이 조례는 공포한 날부터 시행한다.]</td>\n",
       "      <td>공포한 날부터 시행됩니다.</td>\n",
       "    </tr>\n",
       "    <tr>\n",
       "      <th>7</th>\n",
       "      <td>광양시 청년일자리 창출 촉진에 관한 조례에 따른 경비지원 보조금의 절차는 무엇을 따...</td>\n",
       "      <td>[제1항에 따른 경비지원 보조금의 교부신청ㆍ절차ㆍ방법, 정산 등에 필요한 사항은 「...</td>\n",
       "      <td>「광양시 지방보조금 관리 조례」를 따릅니다.</td>\n",
       "    </tr>\n",
       "    <tr>\n",
       "      <th>8</th>\n",
       "      <td>2020년 개정된 조례에서 민간위탁 관련 조항이 어떻게 변경되었나요?</td>\n",
       "      <td>[제9조제2항 중 “「광양시 사무의 민간위탁 촉진 및 관리 조례」”를 “「광양시 사...</td>\n",
       "      <td>「광양시 사무의 민간위탁 촉진 및 관리 조례」를 「광양시 사무의 민간위탁 기본 조례...</td>\n",
       "    </tr>\n",
       "    <tr>\n",
       "      <th>9</th>\n",
       "      <td>조례 시행 전에 지원한 청년일자리 창출 촉진 사항은 어떻게 처리되나요?</td>\n",
       "      <td>[제2조(경과조치) 이 조례의 시행 전에 시장이 청년일자리 창출 촉진을 위하여 지원...</td>\n",
       "      <td>이 조례에 따른 것으로 봅니다.</td>\n",
       "    </tr>\n",
       "    <tr>\n",
       "      <th>10</th>\n",
       "      <td>조례의 목적은 무엇인가?</td>\n",
       "      <td>[이 조례는 가족돌봄청소년ㆍ청년 지원에 필요한 사항을 규정함으로써 가족돌봄청소년ㆍ청...</td>\n",
       "      <td>가족돌봄청소년ㆍ청년의 생활안정 및 복지증진에 이바지함.</td>\n",
       "    </tr>\n",
       "    <tr>\n",
       "      <th>11</th>\n",
       "      <td>가족돌봄청소년ㆍ청년의 정의는 무엇인가?</td>\n",
       "      <td>[이 조례에서 '가족돌봄청소년ㆍ청년'이란 장애, 질병, 고령 등의 사유로 도움이 필...</td>\n",
       "      <td>장애, 질병, 고령 등의 사유로 도움이 필요한 가족을 돌보거나 생계를 책임지는 9세...</td>\n",
       "    </tr>\n",
       "    <tr>\n",
       "      <th>12</th>\n",
       "      <td>시장의 책무는 무엇인가?</td>\n",
       "      <td>[인천광역시장(이하 '시장'이라 한다)은 가족돌봄청소년ㆍ청년의 생활안정 및 복지증진...</td>\n",
       "      <td>가족돌봄청소년ㆍ청년의 생활안정 및 복지증진을 위한 정책을 마련하고 추진.</td>\n",
       "    </tr>\n",
       "    <tr>\n",
       "      <th>13</th>\n",
       "      <td>기본계획에 포함되어야 할 사항은 무엇인가?</td>\n",
       "      <td>[기본계획에는 다음 각 호의 사항이 포함되어야 한다. 1. 기본목표 및 추진방향 2...</td>\n",
       "      <td>기본목표 및 추진방향, 주요 추진과제 및 추진방법, 재원 조달방안 및 지원체계 등.</td>\n",
       "    </tr>\n",
       "    <tr>\n",
       "      <th>14</th>\n",
       "      <td>시장이 추진할 수 있는 지원사업은 무엇인가?</td>\n",
       "      <td>[시장은 가족돌봄청소년ㆍ청년 지원을 위하여 다음 각 호의 사업을 추진할 수 있다. ...</td>\n",
       "      <td>돌봄 및 가사서비스, 심리ㆍ정서 지원, 학업 지속 및 취업을 위한 교육ㆍ훈련, 문화...</td>\n",
       "    </tr>\n",
       "    <tr>\n",
       "      <th>15</th>\n",
       "      <td>시장은 어떤 교육기관과 연계하여 청년을 지원할 수 있나요?</td>\n",
       "      <td>[「통영시 청년일자리 창출 촉진에 관한 조례」 제6조(교육기관의 활용) 시장은 「고...</td>\n",
       "      <td>시장은 「고등교육법」에 따른 교육기관과 연계하여 청년을 지원할 수 있다.</td>\n",
       "    </tr>\n",
       "    <tr>\n",
       "      <th>16</th>\n",
       "      <td>청년일자리 창출을 위해 시장이 협력할 수 있는 기관은?</td>\n",
       "      <td>[제7조(관계기관ㆍ단체 등과의 협력) 시장은 청년일자리 창출과 고용촉진을 위하여 중...</td>\n",
       "      <td>시장은 중앙행정기관, 다른 지방자치단체, 일자리 관련기관ㆍ단체 등과 협력할 수 있다.</td>\n",
       "    </tr>\n",
       "    <tr>\n",
       "      <th>17</th>\n",
       "      <td>시장이 청년일자리 창출 사업을 지원할 수 있는 방법은?</td>\n",
       "      <td>[제8조(행정적ㆍ재정적 지원) ① 시장은 청년일자리 창출 사업을 수행하거나 청년고용...</td>\n",
       "      <td>시장은 행정적ㆍ재정적 지원을 할 수 있다.</td>\n",
       "    </tr>\n",
       "    <tr>\n",
       "      <th>18</th>\n",
       "      <td>미취업 청년에게 시장이 지원할 수 있는 비용은?</td>\n",
       "      <td>[제8조(행정적ㆍ재정적 지원) ② 시장은 미취업 청년에 대하여 예산의 범위 내에서 ...</td>\n",
       "      <td>시장은 미취업 청년에게 구직비용을 지원할 수 있다.</td>\n",
       "    </tr>\n",
       "    <tr>\n",
       "      <th>19</th>\n",
       "      <td>조례 시행에 필요한 사항은 무엇으로 정하는가?</td>\n",
       "      <td>[제10조(시행규칙) 이 조례의 시행에 필요한 사항은 규칙으로 정한다.]</td>\n",
       "      <td>조례 시행에 필요한 사항은 규칙으로 정한다.</td>\n",
       "    </tr>\n",
       "    <tr>\n",
       "      <th>20</th>\n",
       "      <td>청년 일자리 창출을 위한 시장의 사업에는 어떤 것들이 포함되나요?</td>\n",
       "      <td>[「화성시 청년일자리 창출 촉진에 관한 조례」 제6조(청년 일자리 창출 및 고용촉진...</td>\n",
       "      <td>시장 사업에는 직업상담, 직업적성검사, 취업능력 향상 교육, 구인구직 정보 제공, ...</td>\n",
       "    </tr>\n",
       "    <tr>\n",
       "      <th>21</th>\n",
       "      <td>시장은 어떤 기관들과 협력할 수 있나요?</td>\n",
       "      <td>[제7조(관계기관ㆍ단체와의 협력 등), ① 시장은 청년일자리 창출 촉진을 위하여 중...</td>\n",
       "      <td>시장은 중앙행정기관, 경기도, 초ㆍ중등 및 고등교육기관, 기업체, 공공기관과 협력할...</td>\n",
       "    </tr>\n",
       "    <tr>\n",
       "      <th>22</th>\n",
       "      <td>취약계층 청년들에게 제공되는 혜택은 무엇인가요?</td>\n",
       "      <td>[제9조(취약계층에 대한 배려), ① 시장은 다음 각 호의 사회취약계층에 속한 청년...</td>\n",
       "      <td>취약계층 청년들에게는 조례에 따른 지원 및 협력 사업에 의한 혜택이 우선적으로 제공...</td>\n",
       "    </tr>\n",
       "    <tr>\n",
       "      <th>23</th>\n",
       "      <td>조례 시행에 필요한 사항은 어떻게 정해지나요?</td>\n",
       "      <td>[제10조(시행규칙), 이 조례의 시행에 관하여 필요한 사항은 규칙으로 정한다.]</td>\n",
       "      <td>조례 시행에 필요한 사항은 규칙으로 정합니다.</td>\n",
       "    </tr>\n",
       "    <tr>\n",
       "      <th>24</th>\n",
       "      <td>조례는 언제부터 시행되나요?</td>\n",
       "      <td>[부칙, 이 조례는 공포 후 2개월이 경과한 날부터 시행한다.]</td>\n",
       "      <td>조례는 공포 후 2개월이 경과한 날부터 시행됩니다.</td>\n",
       "    </tr>\n",
       "  </tbody>\n",
       "</table>\n",
       "</div>"
      ],
      "text/plain": [
       "                                           user_input  \\\n",
       "0                          광양시 청년일자리 창출 조례의 목적은 무엇인가?   \n",
       "1                                조례에서 '청년'의 정의는 무엇인가?   \n",
       "2                 광양시장은 청년일자리 창출을 위해 어떤 대책을 수립해야 하는가?   \n",
       "3                     청년일자리 창출 계획에는 어떤 사항이 포함되어야 하는가?   \n",
       "4                        광양시장은 청년 미취업자 실태조사를 왜 실시하는가?   \n",
       "5                  광양시 청년일자리 창출 촉진에 관한 조례는 언제 제정되었나요?   \n",
       "6                 광양시 청년일자리 창출 촉진에 관한 조례의 시행일은 언제인가요?   \n",
       "7   광양시 청년일자리 창출 촉진에 관한 조례에 따른 경비지원 보조금의 절차는 무엇을 따...   \n",
       "8              2020년 개정된 조례에서 민간위탁 관련 조항이 어떻게 변경되었나요?   \n",
       "9             조례 시행 전에 지원한 청년일자리 창출 촉진 사항은 어떻게 처리되나요?   \n",
       "10                                      조례의 목적은 무엇인가?   \n",
       "11                              가족돌봄청소년ㆍ청년의 정의는 무엇인가?   \n",
       "12                                      시장의 책무는 무엇인가?   \n",
       "13                            기본계획에 포함되어야 할 사항은 무엇인가?   \n",
       "14                           시장이 추진할 수 있는 지원사업은 무엇인가?   \n",
       "15                   시장은 어떤 교육기관과 연계하여 청년을 지원할 수 있나요?   \n",
       "16                     청년일자리 창출을 위해 시장이 협력할 수 있는 기관은?   \n",
       "17                     시장이 청년일자리 창출 사업을 지원할 수 있는 방법은?   \n",
       "18                         미취업 청년에게 시장이 지원할 수 있는 비용은?   \n",
       "19                          조례 시행에 필요한 사항은 무엇으로 정하는가?   \n",
       "20               청년 일자리 창출을 위한 시장의 사업에는 어떤 것들이 포함되나요?   \n",
       "21                             시장은 어떤 기관들과 협력할 수 있나요?   \n",
       "22                         취약계층 청년들에게 제공되는 혜택은 무엇인가요?   \n",
       "23                          조례 시행에 필요한 사항은 어떻게 정해지나요?   \n",
       "24                                    조례는 언제부터 시행되나요?   \n",
       "\n",
       "                                           qa_context  \\\n",
       "0   [광양시 청년일자리 창출 조례는 지역경제 활성화와 사회 안정에 이바지하기 위하여 청...   \n",
       "1   [조례에서 '청년'이란 광양시에 주소를 가진 「청년고용촉진 특별법」 제2조 제1호의...   \n",
       "2   [광양시장은 청년일자리 창출을 위하여 일자리 창출 및 인력수급 전망, 청년 미취업자...   \n",
       "3   [청년일자리 창출 계획에는 목표와 방향, 교육ㆍ홍보, 채용행사 등 시책, 시 소재 ...   \n",
       "4   [광양시장은 청년 미취업자에 대한 실태조사를 실시하여 청년일자리 창출과 청년 고용촉...   \n",
       "5                     [부칙(제정 2016. 6. 29. 조례 제1433호)]   \n",
       "6                      [제1조(시행일) 이 조례는 공포한 날부터 시행한다.]   \n",
       "7   [제1항에 따른 경비지원 보조금의 교부신청ㆍ절차ㆍ방법, 정산 등에 필요한 사항은 「...   \n",
       "8   [제9조제2항 중 “「광양시 사무의 민간위탁 촉진 및 관리 조례」”를 “「광양시 사...   \n",
       "9   [제2조(경과조치) 이 조례의 시행 전에 시장이 청년일자리 창출 촉진을 위하여 지원...   \n",
       "10  [이 조례는 가족돌봄청소년ㆍ청년 지원에 필요한 사항을 규정함으로써 가족돌봄청소년ㆍ청...   \n",
       "11  [이 조례에서 '가족돌봄청소년ㆍ청년'이란 장애, 질병, 고령 등의 사유로 도움이 필...   \n",
       "12  [인천광역시장(이하 '시장'이라 한다)은 가족돌봄청소년ㆍ청년의 생활안정 및 복지증진...   \n",
       "13  [기본계획에는 다음 각 호의 사항이 포함되어야 한다. 1. 기본목표 및 추진방향 2...   \n",
       "14  [시장은 가족돌봄청소년ㆍ청년 지원을 위하여 다음 각 호의 사업을 추진할 수 있다. ...   \n",
       "15  [「통영시 청년일자리 창출 촉진에 관한 조례」 제6조(교육기관의 활용) 시장은 「고...   \n",
       "16  [제7조(관계기관ㆍ단체 등과의 협력) 시장은 청년일자리 창출과 고용촉진을 위하여 중...   \n",
       "17  [제8조(행정적ㆍ재정적 지원) ① 시장은 청년일자리 창출 사업을 수행하거나 청년고용...   \n",
       "18  [제8조(행정적ㆍ재정적 지원) ② 시장은 미취업 청년에 대하여 예산의 범위 내에서 ...   \n",
       "19           [제10조(시행규칙) 이 조례의 시행에 필요한 사항은 규칙으로 정한다.]   \n",
       "20  [「화성시 청년일자리 창출 촉진에 관한 조례」 제6조(청년 일자리 창출 및 고용촉진...   \n",
       "21  [제7조(관계기관ㆍ단체와의 협력 등), ① 시장은 청년일자리 창출 촉진을 위하여 중...   \n",
       "22  [제9조(취약계층에 대한 배려), ① 시장은 다음 각 호의 사회취약계층에 속한 청년...   \n",
       "23      [제10조(시행규칙), 이 조례의 시행에 관하여 필요한 사항은 규칙으로 정한다.]   \n",
       "24                [부칙, 이 조례는 공포 후 2개월이 경과한 날부터 시행한다.]   \n",
       "\n",
       "                                            reference  \n",
       "0   광양시 지역경제 활성화와 사회 안정에 이바지하기 위하여 청년일자리 창출 촉진에 관한...  \n",
       "1             광양시에 주소를 가진 「청년고용촉진 특별법」 제2조 제1호의 사람이다.  \n",
       "2   일자리 창출 및 인력수급 전망, 청년 미취업자 실태조사 및 지원 방안, 직업지도, ...  \n",
       "3   목표와 방향, 교육ㆍ홍보, 채용행사 등 시책, 시 소재 공공기관 및 기업 등과의 협...  \n",
       "4   청년일자리 창출과 청년 고용촉진을 위한 정책 및 창출계획 수립의 기초자료로 활용하기...  \n",
       "5                              2016년 6월 29일에 제정되었습니다.  \n",
       "6                                      공포한 날부터 시행됩니다.  \n",
       "7                            「광양시 지방보조금 관리 조례」를 따릅니다.  \n",
       "8   「광양시 사무의 민간위탁 촉진 및 관리 조례」를 「광양시 사무의 민간위탁 기본 조례...  \n",
       "9                                   이 조례에 따른 것으로 봅니다.  \n",
       "10                     가족돌봄청소년ㆍ청년의 생활안정 및 복지증진에 이바지함.  \n",
       "11  장애, 질병, 고령 등의 사유로 도움이 필요한 가족을 돌보거나 생계를 책임지는 9세...  \n",
       "12           가족돌봄청소년ㆍ청년의 생활안정 및 복지증진을 위한 정책을 마련하고 추진.  \n",
       "13     기본목표 및 추진방향, 주요 추진과제 및 추진방법, 재원 조달방안 및 지원체계 등.  \n",
       "14  돌봄 및 가사서비스, 심리ㆍ정서 지원, 학업 지속 및 취업을 위한 교육ㆍ훈련, 문화...  \n",
       "15           시장은 「고등교육법」에 따른 교육기관과 연계하여 청년을 지원할 수 있다.  \n",
       "16    시장은 중앙행정기관, 다른 지방자치단체, 일자리 관련기관ㆍ단체 등과 협력할 수 있다.  \n",
       "17                            시장은 행정적ㆍ재정적 지원을 할 수 있다.  \n",
       "18                       시장은 미취업 청년에게 구직비용을 지원할 수 있다.  \n",
       "19                           조례 시행에 필요한 사항은 규칙으로 정한다.  \n",
       "20  시장 사업에는 직업상담, 직업적성검사, 취업능력 향상 교육, 구인구직 정보 제공, ...  \n",
       "21  시장은 중앙행정기관, 경기도, 초ㆍ중등 및 고등교육기관, 기업체, 공공기관과 협력할...  \n",
       "22  취약계층 청년들에게는 조례에 따른 지원 및 협력 사업에 의한 혜택이 우선적으로 제공...  \n",
       "23                          조례 시행에 필요한 사항은 규칙으로 정합니다.  \n",
       "24                       조례는 공포 후 2개월이 경과한 날부터 시행됩니다.  "
      ]
     },
     "execution_count": 7,
     "metadata": {},
     "output_type": "execute_result"
    }
   ],
   "source": [
    "eval_df"
   ]
  },
  {
   "cell_type": "code",
   "execution_count": 8,
   "metadata": {},
   "outputs": [],
   "source": [
    "# Vector Store\n",
    "embedding_model = OpenAIEmbeddings(model=\"text-embedding-3-small\")\n",
    "COLLECTION_NAME = \"youth_policy\"\n",
    "PERSIST_DIRECTORY = \"vector_store/chroma/youth_policy\"\n",
    "\n",
    "# vector store 연결\n",
    "vector_store = Chroma(\n",
    "    embedding_function=embedding_model,\n",
    "    collection_name=COLLECTION_NAME,\n",
    "    persist_directory=PERSIST_DIRECTORY\n",
    ")"
   ]
  },
  {
   "cell_type": "code",
   "execution_count": 9,
   "metadata": {},
   "outputs": [],
   "source": [
    "# Chain 구성\n",
    "# Prompt Template 생성\n",
    "messages = [\n",
    "        (\"ai\", \"\"\"\n",
    "        당신은 청년 정책 전문가입니다. 아래 문서의 내용으로만 답변해주세요.\n",
    "        답변을 모르면 모른다고 대답해주세요.\n",
    "        {context}\"\"\"),\n",
    "        (\"human\", \"{question}\"),\n",
    "]\n",
    "\n",
    "prompt_template = ChatPromptTemplate(messages)\n",
    "\n",
    "# Retriever 생성\n",
    "retriever = vector_store.as_retriever(\n",
    "    search_type='mmr',\n",
    "    search_kwargs={\n",
    "        'k':10,\n",
    "        'fetch_k':10,\n",
    "        'lambda_mult':0.5\n",
    "    }\n",
    ")\n",
    "model = ChatOpenAI(model=\"gpt-4o-mini\")\n",
    "\n",
    "\n",
    "def format_docs(src_docs:dict[str, list[Document]]) -> str:\n",
    "    \"\"\"list[Document]: Vector Store에서 검색한 context들에서 \n",
    "    page_content만 추출해서 하나의 문자열로 합쳐서 반환\"\"\"\n",
    "    docs = src_docs['context']\n",
    "    return \"\\n\\n\".join([doc.page_content for doc in docs])\n",
    "\n",
    "\n",
    "def str_from_documents(docs: list[Document]) -> list[str]:\n",
    "    \"\"\"list[Document]에서 page_content 값들만 추출한 list를 반환.\"\"\"\n",
    "    return [doc.page_content for doc in docs]\n",
    "\n",
    "\n",
    "# LLM 응답 처리 chain.\n",
    "rag_chain = (\n",
    "    RunnablePassthrough() \n",
    "    | {\n",
    "        \"context\": retriever, \"question\":RunnablePassthrough()\n",
    "    } \n",
    "    | {\n",
    "        \"source_context\" : itemgetter(\"context\") | RunnableLambda(str_from_documents), \n",
    "        \"llm_answer\": {\n",
    "            \"context\": RunnableLambda(format_docs), \"question\":itemgetter(\"question\")\n",
    "        } | prompt_template | model | StrOutputParser()   \n",
    "    }\n",
    ")\n"
   ]
  },
  {
   "cell_type": "code",
   "execution_count": 10,
   "metadata": {},
   "outputs": [
    {
     "data": {
      "text/plain": [
       "0                            광양시 청년일자리 창출 조례의 목적은 무엇인가?\n",
       "1                                  조례에서 '청년'의 정의는 무엇인가?\n",
       "2                   광양시장은 청년일자리 창출을 위해 어떤 대책을 수립해야 하는가?\n",
       "3                       청년일자리 창출 계획에는 어떤 사항이 포함되어야 하는가?\n",
       "4                          광양시장은 청년 미취업자 실태조사를 왜 실시하는가?\n",
       "5                    광양시 청년일자리 창출 촉진에 관한 조례는 언제 제정되었나요?\n",
       "6                   광양시 청년일자리 창출 촉진에 관한 조례의 시행일은 언제인가요?\n",
       "7     광양시 청년일자리 창출 촉진에 관한 조례에 따른 경비지원 보조금의 절차는 무엇을 따...\n",
       "8                2020년 개정된 조례에서 민간위탁 관련 조항이 어떻게 변경되었나요?\n",
       "9               조례 시행 전에 지원한 청년일자리 창출 촉진 사항은 어떻게 처리되나요?\n",
       "10                                        조례의 목적은 무엇인가?\n",
       "11                                가족돌봄청소년ㆍ청년의 정의는 무엇인가?\n",
       "12                                        시장의 책무는 무엇인가?\n",
       "13                              기본계획에 포함되어야 할 사항은 무엇인가?\n",
       "14                             시장이 추진할 수 있는 지원사업은 무엇인가?\n",
       "15                     시장은 어떤 교육기관과 연계하여 청년을 지원할 수 있나요?\n",
       "16                       청년일자리 창출을 위해 시장이 협력할 수 있는 기관은?\n",
       "17                       시장이 청년일자리 창출 사업을 지원할 수 있는 방법은?\n",
       "18                           미취업 청년에게 시장이 지원할 수 있는 비용은?\n",
       "19                            조례 시행에 필요한 사항은 무엇으로 정하는가?\n",
       "20                 청년 일자리 창출을 위한 시장의 사업에는 어떤 것들이 포함되나요?\n",
       "21                               시장은 어떤 기관들과 협력할 수 있나요?\n",
       "22                           취약계층 청년들에게 제공되는 혜택은 무엇인가요?\n",
       "23                            조례 시행에 필요한 사항은 어떻게 정해지나요?\n",
       "24                                      조례는 언제부터 시행되나요?\n",
       "Name: user_input, dtype: object"
      ]
     },
     "execution_count": 10,
     "metadata": {},
     "output_type": "execute_result"
    }
   ],
   "source": [
    "eval_df['user_input']"
   ]
  },
  {
   "cell_type": "code",
   "execution_count": 11,
   "metadata": {},
   "outputs": [],
   "source": [
    "# rag_chain에 평가 질문을 입력해서 context들과 모델답변을 응답 받아 eval_dataset(eval_df)에 추가.\n",
    "context_list = []\n",
    "response_list = []\n",
    "\n",
    "for user_input in eval_df['user_input']:\n",
    "    res = rag_chain.invoke(user_input)\n",
    "    context_list.append(res['source_context'])\n",
    "    response_list.append(res['llm_answer'])"
   ]
  },
  {
   "cell_type": "code",
   "execution_count": 12,
   "metadata": {},
   "outputs": [
    {
     "data": {
      "text/plain": [
       "['광양시 청년일자리 창출 촉진에 관한 조례의 목적은 「청년고용촉진 특별법」에 따라 광양시 지역경제 활성화와 사회 안정에 이바지하기 위하여 청년일자리 창출 촉진에 관한 사항을 정하는 것입니다.',\n",
       " \"조례에서 '청년'의 정의는 일반적으로 19세 이상 39세 이하의 사람을 말합니다. 다만, 다른 법령이나 조례에서 청년의 연령을 다르게 적용하는 경우에는 그에 따릅니다. 일부 조례에서는 청년의 연령 범위를 18세 이상 45세 이하로 설정하기도 합니다.\",\n",
       " '광양시장은 청년일자리 창출을 위해 다음과 같은 대책을 수립해야 합니다:\\n\\n1. 청년 고용 확대 및 일자리 질 향상: 청년 고용을 확대하고 일자리의 질을 향상시키기 위한 정책을 마련해야 합니다.\\n\\n2. 직업역량 강화 및 취업 지원: 청년 구직자의 직업역량을 강화하기 위한 교육 및 취업 지원 방안을 강구해야 합니다.\\n\\n3. 청년창업 지원: 청년 창업을 육성하기 위해 창업환경 개선과 안정적인 기반 조성을 위한 지원 대책을 마련해야 합니다.\\n\\n4. 민간기업과의 협력: 민간기업 등과 협력하여 청년 고용을 촉진할 수 있는 지표를 연구하고 개발하여 공공구매 등과 연계해야 합니다.\\n\\n5. 취약계층 청년 지원: 취약계층 청년의 자립과 노동시장 진입을 위한 구체적인 대책을 마련해야 합니다.\\n\\n이러한 대책을 통해 청년들이 안정적으로 일자리를 찾고, 경제적 자립을 이루도록 지원해야 합니다.',\n",
       " '청년일자리 창출 계획에는 다음 각 호의 사항이 포함되어야 합니다:\\n\\n1. 청년일자리 창출과 고용촉진을 위한 목표와 방향\\n2. 청년일자리 창출을 위한 시책\\n3. 청년일자리 창출을 위한 각종 지원 및 홍보에 관한 사항\\n4. 기관, 단체, 기업 등과 협력에 관한 사항\\n5. 그 밖에 시장이 필요하다고 인정하는 사항',\n",
       " '광양시장은 청년 미취업자에 대한 실태조사를 실시하여 청년일자리 창출과 청년 고용촉진을 위한 정책 및 창출계획 수립의 기초자료로 활용하기 위함입니다. 이 조사는 청년일자리 창출을 위한 효과적인 정책을 마련하는 데 중요한 역할을 합니다.',\n",
       " '광양시 청년일자리 창출 촉진에 관한 조례는 2016년 6월 29일에 제정되었습니다.',\n",
       " '모릅니다.',\n",
       " '광양시 청년일자리 창출 촉진에 관한 조례에 따른 경비지원 보조금의 교부신청, 절차, 방법, 정산 등에 필요한 사항은 「광양시 지방보조금 관리 조례」에 따른다고 명시되어 있습니다.',\n",
       " '2020년에 개정된 조례에서 민간위탁 관련 조항은 다음과 같이 변경되었습니다:\\n\\n1. **안동시 청년일자리 창출 및 고용 촉진에 관한 조례**: 제5조 제2항에서 “안동시 사무의 민간위탁 촉진 및 관리 조례”를 “안동시 사무의 민간위탁에 관한 조례”로 변경하였습니다.\\n\\n2. **전주시 청년일자리 창출 촉진에 관한 조례**: 제2조 및 제7조에서 “전주시 사무의 민간위탁 조례”를 “전주시 사무의 위탁 기본 조례”로 변경하였습니다.\\n\\n3. **남양주시 청년 일자리 창출 촉진에 관한 조례**: 제6조 제2항에서 “남양주시 사무의 민간위탁 촉진 및 관리 조례”를 “남양주시 사무의 민간위탁에 관한 조례”로 변경하였습니다.\\n\\n4. **부안군 청년일자리 창출 지원 조례**: 제7조 제2항에서 “부안군 사무의 민간위탁 관리 조례”를 “부안군 사무의 민간위탁 기본 조례”로 변경하였습니다.\\n\\n5. **용인시 청년일자리 창출 촉진에 관한 조례**: 제6조 제2항에서 “용인시 사무의 민간위탁 촉진 및 관리 조례”를 “용인시 민간위탁 관리 조례”로 변경하였습니다.\\n\\n이와 같이 각 조례에서 민간위탁 관련 조항의 명칭이 변경되었습니다.',\n",
       " '조례 시행 전에 도지사가 청년일자리 창출을 위하여 지원하였거나 지원 중인 사항은 해당 조례에 따른 것으로 간주됩니다.',\n",
       " '조례의 목적은 청년창업 및 일자리 창출 지원을 촉진하여 경제 활성화와 일자리 문제 해소, 자립준비청년등의 실질적인 자립과 복지 향상, 가족돌봄청소년 및 청년의 생활안정 및 복지증진 등을 규정하는 것입니다. 각 조례마다 구체적인 목적은 다를 수 있지만, 일반적으로 청년 및 관련 집단을 지원하기 위한 정책과 규정을 마련하는 데 중점을 두고 있습니다.',\n",
       " '가족돌봄청소년ㆍ청년은 고령, 장애, 정신 또는 신체의 질병 등으로 도움이 필요한 가족에게 간호ㆍ간병, 일상생활 관리 또는 그 밖의 도움을 제공하고 있는 9세 이상 34세 이하인 사람을 말합니다.',\n",
       " '시장의 책무는 가족돌봄 청소년 및 청년의 생활안정 및 복지증진을 위하여 필요한 제도와 여건을 조성하고, 이를 위한 시책을 추진하기 위해 노력하는 것입니다.',\n",
       " '기본계획에는 다음 각 호의 사항이 포함되어야 합니다:\\n\\n1. 청년정책의 기본방향\\n2. 청년정책의 추진목표\\n3. 청년정책에 관한 분야별 주요 시책\\n4. 이전의 기본계획에 관한 분석ㆍ평가\\n5. 청년정책에 관한 기능의 조정\\n6. 청년정책 추진에 필요한 재원의 조달방법\\n7. 그 밖에 청년정책과 관련하여 대통령령으로 정하는 사항\\n\\n또한, 기본계획에는 취약계층 청년에 대한 별도의 대책이 포함되어야 합니다.',\n",
       " '시장이 추진할 수 있는 지원사업은 다음과 같습니다:\\n\\n1. **직업상담, 직업적성검사, 취업능력 향상 교육** 등 다양한 직업지도 프로그램 개발\\n2. **구인ㆍ구직 등 채용 정보 제공 사업**\\n3. **청년 구직자와 기업을 연결시켜주는 채용박람회 개최**\\n4. **청년 일자리 창출과 고용 촉진에 기여한 기업체에 대한 장려책 마련**\\n5. **새로운 청년 일자리 모델 발굴 및 육성**\\n6. **청년 창업 활성화를 위한 사업** (예: 지식재산권 등록, 시제품 개발 및 사업화 지원, 창업능력 개발을 위한 전문가 컨설팅 등)\\n7. **사회공동체 참여 기회 및 활동 확대 제공 사업**\\n8. **맞춤형 일자리 지원 사업**\\n9. **응급상황 대처 등 사회 안전망 구축 사업**\\n10. **그 밖에 청년 일자리 창출과 고용 촉진을 위한 필요하다고 인정하는 사항**\\n\\n이 외에도 필요하다고 인정되는 사업들을 추가로 추진할 수 있습니다.',\n",
       " '시장은 「고등교육법」에 따른 교육기관과 연계하여 청년이 취업을 위해 필요한 지식과 기술을 익힐 수 있도록 지원할 수 있습니다.',\n",
       " '시장은 청년일자리 창출과 고용촉진을 위해 중앙행정기관, 다른 지방자치단체, 일자리 관련 기관 및 단체와 협력할 수 있습니다. 필요할 경우 이러한 기관 및 단체와 일자리 창출을 위한 협약 등을 체결할 수 있습니다.',\n",
       " '시장이 청년일자리 창출 사업을 지원할 수 있는 방법은 다음과 같습니다:\\n\\n1. **예산 지원**: 시장은 청년일자리 창출 관련 사업을 추진하는 법인이나 단체 등에 예산의 범위에서 경비의 전부 또는 일부를 지원할 수 있습니다.\\n\\n2. **위탁**: 시장은 청년일자리 창출 관련 기관 또는 단체 등에 업무를 위탁할 수 있으며, 이 경우 예산의 범위 내에서 필요한 경비를 보조할 수 있습니다.\\n\\n3. **전문기관 의뢰**: 시장은 청년일자리 창출 사업의 실태조사를 효과적으로 수행하기 위해 전문기관에 의뢰할 수 있습니다.\\n\\n4. **장려책 마련**: 청년 일자리 창출과 고용 촉진에 기여한 기업에 대한 장려책을 마련하여 지원할 수 있습니다.\\n\\n5. **직업지도 프로그램 개발**: 직업상담, 적성검사, 취업능력 향상 교육 등 다양한 직업지도 프로그램을 개발하여 지원할 수 있습니다.\\n\\n6. **채용박람회 개최**: 청년 구직자와 기업을 연결해주는 채용박람회를 개최할 수 있습니다.\\n\\n7. **청년창업 지원**: 청년 창업을 위한 상담, 교육, 홍보 및 판로 지원, 사업화 자금 지원 등의 사업을 추진할 수 있습니다.\\n\\n이 외에도 필요한 경우 시장이 인정하는 사업을 추가로 지원할 수 있습니다.',\n",
       " '미취업 청년에게 시장이 지원할 수 있는 비용은 다음과 같습니다:\\n\\n1. 면접용 정장 등의 피복 무상대여\\n2. 이력서용 사진촬영에 필요한 제반 비용\\n3. 면접컨설팅 등 취업면접 준비과정\\n4. 면접스타일링(헤어ㆍ메이크업 등) 비용\\n5. 그 밖에 청년의 구직비용 절감과 취업률 향상을 위하여 시장이 필요하다고 인정하는 사항\\n\\n이 비용들은 예산의 범위 내에서 지원될 수 있습니다.',\n",
       " '조례 시행에 필요한 사항은 규칙으로 정할 수 있습니다.',\n",
       " '청년 일자리 창출을 위한 시장의 사업에는 다음과 같은 사항들이 포함됩니다:\\n\\n1. 직업상담, 직업적성검사, 취업능력향상 교육 등 직업지도 프로그램 개발\\n2. 구인ㆍ구직 등 채용정보 제공 사업\\n3. 청년 구직자와 기업을 연결시켜주는 채용박람회 개최\\n4. 청년일자리 창출과 고용촉진에 기여한 기업에 대한 장려책 마련\\n5. 새로운 청년일자리 모델 발굴 및 육성\\n6. 청년 창업을 위한 상담 및 교육 지원\\n7. 청년 창업을 위한 홍보 및 판로 지원\\n8. 청년 창업을 위한 사업화 자금 지원\\n9. 청년 미취업자에 대한 심리지원 프로그램 개발\\n10. 그 밖에 시장이 필요하다고 인정하는 사업\\n\\n이 외에도 시장은 청년 일자리 창출 및 고용 촉진을 위해 다양한 지원 사업을 추진하거나 위탁할 수 있습니다.',\n",
       " '시장은 중앙행정기관, 다른 지방자치단체, 일자리 관련 기관 및 단체 등과 협력하여 업무를 추진할 수 있습니다. 또한, 필요할 경우 이러한 기관 및 단체와 일자리 창출을 위한 협약을 체결할 수 있습니다.',\n",
       " '취약계층 청년들에게 제공되는 혜택은 다음과 같습니다:\\n\\n1. **우선 지원 및 협력 사업 혜택**: 청년들이 사회취약계층에 속하는 경우, 이 조례에 따른 지원 및 협력 사업에 의한 혜택을 우선적으로 제공받을 수 있습니다.\\n\\n2. **청년일자리 창출 및 고용 촉진**: 취약계층 청년들을 위한 일자리 창출 및 고용 촉진 사업에 대한 지원이 이루어집니다.\\n\\n3. **교육 및 훈련 지원**: 청년의 능력 개발 및 직업 훈련을 위한 교육 프로그램에 참여할 수 있는 기회를 제공받습니다.\\n\\n이 외에도 각 지방자치단체에서 시행하는 다양한 청년지원 정책의 일환으로 추가적인 혜택이 제공될 수 있습니다.',\n",
       " '조례 시행에 필요한 사항은 규칙으로 정할 수 있습니다. 이는 제10조(시행규칙)에서 명시되어 있으며, 각 조례에 따라 필요한 사항이 규칙으로 정해질 수 있습니다.',\n",
       " '이 조례는 공포한 날부터 시행됩니다.']"
      ]
     },
     "execution_count": 12,
     "metadata": {},
     "output_type": "execute_result"
    }
   ],
   "source": [
    "response_list"
   ]
  },
  {
   "cell_type": "code",
   "execution_count": 13,
   "metadata": {},
   "outputs": [],
   "source": [
    "# context 추가\n",
    "eval_df[\"retrieved_contexts\"] = context_list \n",
    "\n",
    "# 정답 추가\n",
    "eval_df[\"response\"] = response_list   \n",
    "\n",
    "# Dataframe으로 부터 EvalDataset 생성\n",
    "eval_dataset = EvaluationDataset.from_pandas(eval_df)"
   ]
  },
  {
   "cell_type": "code",
   "execution_count": 17,
   "metadata": {},
   "outputs": [],
   "source": [
    "model_name = \"gpt-4o-mini\"\n",
    "model = ChatOpenAI(model=model_name)\n",
    "eval_llm = LangchainLLMWrapper(model)\n",
    "\n",
    "embedding_model = OpenAIEmbeddings(model=\"text-embedding-3-small\")\n",
    "eval_embedding = LangchainEmbeddingsWrapper(embedding_model)\n"
   ]
  },
  {
   "cell_type": "code",
   "execution_count": 18,
   "metadata": {},
   "outputs": [],
   "source": [
    "# 분당 토큰 리미트으로 평가별 나누어 실행행\n",
    "run_config = RunConfig(\n",
    "    timeout=360,     # LLM 호출 이후 최대 대기 시간 \n",
    "    max_retries=20, # API 호출시 지정한 횟수만큼 재시도\n",
    "    max_wait=360,   # 재시도 대기 시간(초)\n",
    "    max_workers=1   # 병렬처리 worker 수.\n",
    ")\n",
    "metrics1 = [LLMContextRecall(llm=eval_llm)]\n",
    "metrics2 = [LLMContextPrecisionWithReference(llm=eval_llm)]\n",
    "metrics3 = [Faithfulness(llm=eval_llm)]\n",
    "metrics4 = [AnswerRelevancy(llm=eval_llm, embeddings=eval_embedding)]"
   ]
  },
  {
   "cell_type": "code",
   "execution_count": 19,
   "metadata": {},
   "outputs": [
    {
     "data": {
      "application/vnd.jupyter.widget-view+json": {
       "model_id": "f12777611ab54726970c8bf506cfb8f8",
       "version_major": 2,
       "version_minor": 0
      },
      "text/plain": [
       "Evaluating:   0%|          | 0/25 [00:00<?, ?it/s]"
      ]
     },
     "metadata": {},
     "output_type": "display_data"
    },
    {
     "data": {
      "text/plain": [
       "{'context_recall': 0.8800}"
      ]
     },
     "execution_count": 19,
     "metadata": {},
     "output_type": "execute_result"
    }
   ],
   "source": [
    "# context_recall\n",
    "result1 = evaluate(dataset=eval_dataset, metrics=metrics1, run_config=run_config)\n",
    "result1"
   ]
  },
  {
   "cell_type": "code",
   "execution_count": 20,
   "metadata": {},
   "outputs": [
    {
     "data": {
      "application/vnd.jupyter.widget-view+json": {
       "model_id": "fd58c3d843024fa2b7c191ec266a5b84",
       "version_major": 2,
       "version_minor": 0
      },
      "text/plain": [
       "Evaluating:   0%|          | 0/25 [00:00<?, ?it/s]"
      ]
     },
     "metadata": {},
     "output_type": "display_data"
    },
    {
     "data": {
      "text/plain": [
       "{'llm_context_precision_with_reference': 0.8037}"
      ]
     },
     "execution_count": 20,
     "metadata": {},
     "output_type": "execute_result"
    }
   ],
   "source": [
    "# llm_context_precision_with_reference\n",
    "result2 = evaluate(dataset=eval_dataset, metrics=metrics2, run_config=run_config)\n",
    "result2"
   ]
  },
  {
   "cell_type": "code",
   "execution_count": 21,
   "metadata": {},
   "outputs": [
    {
     "data": {
      "application/vnd.jupyter.widget-view+json": {
       "model_id": "888d7044bffd43848edaba595b2f94c8",
       "version_major": 2,
       "version_minor": 0
      },
      "text/plain": [
       "Evaluating:   0%|          | 0/25 [00:00<?, ?it/s]"
      ]
     },
     "metadata": {},
     "output_type": "display_data"
    },
    {
     "data": {
      "text/plain": [
       "{'faithfulness': 0.9233}"
      ]
     },
     "execution_count": 21,
     "metadata": {},
     "output_type": "execute_result"
    }
   ],
   "source": [
    "# faithfulness\n",
    "result3 = evaluate(dataset=eval_dataset, metrics=metrics3, run_config=run_config)\n",
    "result3"
   ]
  },
  {
   "cell_type": "code",
   "execution_count": 22,
   "metadata": {},
   "outputs": [
    {
     "data": {
      "application/vnd.jupyter.widget-view+json": {
       "model_id": "268c17ee87404e73a79e86835ac85f0e",
       "version_major": 2,
       "version_minor": 0
      },
      "text/plain": [
       "Evaluating:   0%|          | 0/25 [00:00<?, ?it/s]"
      ]
     },
     "metadata": {},
     "output_type": "display_data"
    },
    {
     "data": {
      "text/plain": [
       "{'answer_relevancy': 0.3105}"
      ]
     },
     "execution_count": 22,
     "metadata": {},
     "output_type": "execute_result"
    }
   ],
   "source": [
    "# answer_relevancy\n",
    "result4 = evaluate(dataset=eval_dataset, metrics=metrics4, run_config=run_config)\n",
    "result4"
   ]
  }
 ],
 "metadata": {
  "kernelspec": {
   "display_name": "langchain2",
   "language": "python",
   "name": "python3"
  },
  "language_info": {
   "codemirror_mode": {
    "name": "ipython",
    "version": 3
   },
   "file_extension": ".py",
   "mimetype": "text/x-python",
   "name": "python",
   "nbconvert_exporter": "python",
   "pygments_lexer": "ipython3",
   "version": "3.12.8"
  }
 },
 "nbformat": 4,
 "nbformat_minor": 2
}
