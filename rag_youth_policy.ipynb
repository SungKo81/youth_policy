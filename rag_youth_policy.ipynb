{
 "cells": [
  {
   "cell_type": "code",
   "execution_count": 1,
   "metadata": {},
   "outputs": [
    {
     "data": {
      "text/plain": [
       "True"
      ]
     },
     "execution_count": 1,
     "metadata": {},
     "output_type": "execute_result"
    }
   ],
   "source": [
    "from langchain_community.document_loaders import PyPDFLoader\n",
    "from langchain_chroma import Chroma\n",
    "from langchain_openai import OpenAIEmbeddings, ChatOpenAI\n",
    "from langchain_text_splitters import RecursiveCharacterTextSplitter\n",
    "from langchain.prompts import ChatPromptTemplate\n",
    "from langchain_core.runnables import RunnablePassthrough\n",
    "from langchain_core.output_parsers import StrOutputParser\n",
    "from uuid import uuid4\n",
    "from dotenv import load_dotenv\n",
    "load_dotenv()\n"
   ]
  },
  {
   "cell_type": "code",
   "execution_count": 2,
   "metadata": {},
   "outputs": [
    {
     "name": "stdout",
     "output_type": "stream",
     "text": [
      "<class 'list'>\n"
     ]
    }
   ],
   "source": [
    "# PDF 로딩\n",
    "path = \"data//raw//청년 법령집.pdf\"\n",
    "loader = PyPDFLoader(file_path=path)\n",
    "docs = loader.load()\n",
    "print(type(docs))\n",
    "\n",
    "\n",
    "for i in range(len(docs)):\n",
    "    docs[i].page_content = (docs[i].page_content\n",
    "                            .replace('발  간  등  록  번  호','')\n",
    "                            .replace('법제처 국가법령정보센터', '')\n",
    "                            .replace('법제처', '')\n",
    "                            .replace('Korea Law Service Center', '')\n",
    "                            .replace('국가법령정보센터', '')\n",
    "                            .replace('\\n', ' ')\n",
    "                            .replace('\\t', ' ')\n",
    "                            )\n"
   ]
  },
  {
   "cell_type": "code",
   "execution_count": 3,
   "metadata": {},
   "outputs": [],
   "source": [
    "# Splitter\n",
    "splitter = RecursiveCharacterTextSplitter.from_tiktoken_encoder(\n",
    "    model_name=\"gpt-4o-mini\", \n",
    "    chunk_size=500,\n",
    "    chunk_overlap=100\n",
    ")\n",
    "docs = splitter.split_documents(docs)\n",
    "\n",
    "ids = [str(uuid4()) for _ in range(len(docs))]\n",
    "\n",
    "# Vector Store\n",
    "embedding_model = OpenAIEmbeddings(model=\"text-embedding-3-small\")\n",
    "COLLECTION_NAME = \"youth_policy\"\n",
    "PERSIST_DIRECTORY = \"vector_store/chroma/youth_policy\" #저장할 경로\n",
    "\n",
    "vector_store = Chroma.from_documents(\n",
    "    documents=docs,\n",
    "    embedding=embedding_model,\n",
    "    ids=ids,\n",
    "    collection_name=COLLECTION_NAME,\n",
    "    persist_directory=PERSIST_DIRECTORY\n",
    ")\n"
   ]
  },
  {
   "cell_type": "code",
   "execution_count": null,
   "metadata": {},
   "outputs": [],
   "source": [
    "# vector store 연결\n",
    "vector_store = Chroma(\n",
    "    embedding_function=embedding_model,\n",
    "    collection_name=COLLECTION_NAME,\n",
    "    persist_directory=PERSIST_DIRECTORY\n",
    ")"
   ]
  },
  {
   "cell_type": "code",
   "execution_count": 4,
   "metadata": {},
   "outputs": [],
   "source": [
    "# retriever\n",
    "retriever = vector_store.as_retriever(\n",
    "        search_type=\"mmr\",\n",
    "        search_kwargs={\"k\":10, \"fetch_k\":10}\n",
    ")\n",
    "\n",
    "\n",
    "# Prompt Template 생성\n",
    "messages = [\n",
    "        (\"ai\", \"\"\"\n",
    "        당신은 청년 정책 전문가입니다. 아래 문서의 내용으로만 답변해주세요.\n",
    "        답변을 모르면 모른다고 대답해주세요.\n",
    "        {context}\"\"\"),\n",
    "        (\"human\", \"{question}\"),\n",
    "]\n",
    "\n",
    "prompt_template = ChatPromptTemplate(messages)\n",
    "\n",
    "\n",
    "# 모델\n",
    "model = ChatOpenAI(model=\"gpt-4o-mini\")\n",
    "\n",
    "\n",
    "# output parser\n",
    "parser = StrOutputParser()\n",
    "\n",
    "# Chain 구성 retriever(관련문서 조회) -> prompt_template(prompt생성) -> model(정답) -> output parser\n",
    "chain = {\"context\":retriever, \"question\":RunnablePassthrough()} | prompt_template | model | parser\n"
   ]
  },
  {
   "cell_type": "code",
   "execution_count": 6,
   "metadata": {},
   "outputs": [
    {
     "name": "stdout",
     "output_type": "stream",
     "text": [
      "질문: 서울의 지원정책을 알려줘\n",
      "답변 서울특별시는 청년을 위한 다양한 지원 정책을 운영하고 있습니다. 주요 내용은 다음과 같습니다:\n",
      "\n",
      "1. **청년주거 기본 조례**: 청년의 주거수준 향상과 자립기반 강화를 위한 정책을 수립합니다. 청년의 소득수준에 맞춰 주택공급 및 주거비 지원을 통해 청년이 안정된 주거 환경에서 생활할 수 있도록 합니다.\n",
      "\n",
      "2. **청년일자리 기본 조례**: 청년의 고용 촉진 및 일자리 질 향상을 위한 정책을 수립합니다. 청년 구직자 실태조사 및 직업 능력 개발 훈련 등을 통해 청년의 취업 지원을 강화합니다.\n",
      "\n",
      "3. **청년 문화예술 지원**: 청년 문화예술인의 권리 보호 및 육성을 위한 정책을 수립하고, 관련 기관과 협력하여 실태조사 및 자료 요청을 통해 정책의 기초자료를 마련합니다.\n",
      "\n",
      "이 외에도 서울시는 청년 지원을 위한 다양한 프로그램과 시책을 추진하고 있으며, 이를 통해 청년들이 지역사회에 적극 참여하고 안정적인 삶을 영위할 수 있도록 돕고 있습니다.\n",
      "==================================================\n",
      "질문: 청년 기본법을 알려줘\n",
      "답변 청년 기본법은 청년의 권리 및 책임과 국가 및 지방자치단체의 청년에 대한 책무를 규정하며, 청년정책의 수립, 조정 및 청년 지원에 관한 기본적인 사항을 담고 있습니다. 주요 내용은 다음과 같습니다:\n",
      "\n",
      "1. **목적**: 청년의 권리와 책임을 정립하고, 청년정책의 기본 방향을 제시합니다.\n",
      "2. **기본이념**: 청년이 존엄과 가치를 실현하며 행복한 삶을 영위할 수 있도록 하고, 청년이 적극적으로 사회에 참여할 수 있는 환경을 조성하는 것을 목표로 합니다.\n",
      "3. **청년 정의**: 청년은 19세 이상 34세 이하의 사람으로 정의되며, 다른 법령에서 다르게 적용될 수 있습니다.\n",
      "4. **청년정책 기본계획**: 국무총리는 5년마다 청년정책에 관한 기본계획을 수립하고 시행해야 합니다.\n",
      "\n",
      "이 법은 청년의 정치, 경제, 사회, 문화 등 모든 분야에서의 참여를 촉진하고, 평등한 기회를 제공하는 것을 중요시합니다.\n",
      "==================================================\n"
     ]
    }
   ],
   "source": [
    "while True:\n",
    "    query = input()\n",
    "    if query == '!q':\n",
    "        break\n",
    "    print('질문:', query) \n",
    "    result = chain.invoke(query)\n",
    "    print('답변', result)\n",
    "    print('='*50)\n"
   ]
  },
  {
   "cell_type": "code",
   "execution_count": null,
   "metadata": {},
   "outputs": [],
   "source": []
  }
 ],
 "metadata": {
  "kernelspec": {
   "display_name": "langchain2",
   "language": "python",
   "name": "python3"
  },
  "language_info": {
   "codemirror_mode": {
    "name": "ipython",
    "version": 3
   },
   "file_extension": ".py",
   "mimetype": "text/x-python",
   "name": "python",
   "nbconvert_exporter": "python",
   "pygments_lexer": "ipython3",
   "version": "3.12.8"
  }
 },
 "nbformat": 4,
 "nbformat_minor": 2
}
