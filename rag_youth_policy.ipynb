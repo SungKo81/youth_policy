{
 "cells": [
  {
   "cell_type": "code",
   "execution_count": 1,
   "metadata": {},
   "outputs": [
    {
     "data": {
      "text/plain": [
       "True"
      ]
     },
     "execution_count": 1,
     "metadata": {},
     "output_type": "execute_result"
    }
   ],
   "source": [
    "from langchain_community.document_loaders import PyPDFLoader\n",
    "from langchain_chroma import Chroma\n",
    "from langchain_openai import OpenAIEmbeddings, ChatOpenAI\n",
    "from langchain_text_splitters import RecursiveCharacterTextSplitter\n",
    "from langchain.prompts import ChatPromptTemplate\n",
    "from langchain_core.runnables import RunnablePassthrough\n",
    "from langchain_core.output_parsers import StrOutputParser\n",
    "from uuid import uuid4\n",
    "from dotenv import load_dotenv\n",
    "load_dotenv()\n"
   ]
  },
  {
   "cell_type": "code",
   "execution_count": 2,
   "metadata": {},
   "outputs": [
    {
     "name": "stdout",
     "output_type": "stream",
     "text": [
      "<class 'list'>\n"
     ]
    }
   ],
   "source": [
    "from langchain_community.document_loaders import JSONLoader\n",
    "\n",
    "path = \"policy.json\"\n",
    "loader = JSONLoader(file_path=path, jq_schema='.', text_content=False)\n",
    "docs = loader.load()\n",
    "print(type(docs))\n"
   ]
  },
  {
   "cell_type": "code",
   "execution_count": 2,
   "metadata": {},
   "outputs": [
    {
     "name": "stdout",
     "output_type": "stream",
     "text": [
      "<class 'list'>\n"
     ]
    }
   ],
   "source": [
    "# # PDF 로딩\n",
    "# path = \"data//raw//청년 법령집.pdf\"\n",
    "# loader = PyPDFLoader(file_path=path)\n",
    "# docs = loader.load()\n",
    "# print(type(docs))\n",
    "\n",
    "\n",
    "# for i in range(len(docs)):\n",
    "#     docs[i].page_content = (docs[i].page_content\n",
    "#                             .replace('발  간  등  록  번  호','')\n",
    "#                             .replace('법제처 국가법령정보센터', '')\n",
    "#                             .replace('법제처', '')\n",
    "#                             .replace('Korea Law Service Center', '')\n",
    "#                             .replace('국가법령정보센터', '')\n",
    "#                             .replace('\\n', ' ')\n",
    "#                             .replace('\\t', ' ')\n",
    "#                             )\n"
   ]
  },
  {
   "cell_type": "code",
   "execution_count": null,
   "metadata": {},
   "outputs": [],
   "source": [
    "# Splitter\n",
    "splitter = RecursiveCharacterTextSplitter.from_tiktoken_encoder(\n",
    "    model_name=\"gpt-4o-mini\", \n",
    "    chunk_size=500,\n",
    "    chunk_overlap=100\n",
    ")\n",
    "docs = splitter.split_documents(docs)\n",
    "\n",
    "ids = [str(uuid4()) for _ in range(len(docs))]\n",
    "\n",
    "# Vector Store\n",
    "embedding_model = OpenAIEmbeddings(model=\"text-embedding-3-small\")\n",
    "COLLECTION_NAME = \"youth_policy2\"\n",
    "PERSIST_DIRECTORY = \"vector_store/chroma/youth_policy2\" #저장할 경로\n",
    "\n",
    "vector_store = Chroma.from_documents(\n",
    "    documents=docs,\n",
    "    embedding=embedding_model,\n",
    "    ids=ids,\n",
    "    collection_name=COLLECTION_NAME,\n",
    "    persist_directory=PERSIST_DIRECTORY\n",
    ")\n"
   ]
  },
  {
   "cell_type": "code",
   "execution_count": 4,
   "metadata": {},
   "outputs": [],
   "source": [
    "# vector store 연결\n",
    "embedding_model = OpenAIEmbeddings(model=\"text-embedding-3-small\")\n",
    "COLLECTION_NAME = \"youth_policy2\"\n",
    "PERSIST_DIRECTORY = \"vector_store/chroma/youth_policy2\" #저장할 경로\n",
    "\n",
    "vector_store = Chroma(\n",
    "    embedding_function=embedding_model,\n",
    "    collection_name=COLLECTION_NAME,\n",
    "    persist_directory=PERSIST_DIRECTORY\n",
    ")"
   ]
  },
  {
   "cell_type": "code",
   "execution_count": 5,
   "metadata": {},
   "outputs": [],
   "source": [
    "# retriever\n",
    "retriever = vector_store.as_retriever(\n",
    "        search_type=\"mmr\",\n",
    "        search_kwargs={\"k\":10, \"fetch_k\":10}\n",
    ")\n",
    "\n",
    "\n",
    "# Prompt Template 생성\n",
    "messages = [\n",
    "        (\"ai\", \"\"\"\n",
    "        당신은 청년 정책 전문가입니다. 아래 문서의 내용으로만 답변해주세요.\n",
    "        답변을 모르면 모른다고 대답해주세요.\n",
    "        {context}\"\"\"),\n",
    "        (\"human\", \"{question}\"),\n",
    "]\n",
    "\n",
    "prompt_template = ChatPromptTemplate(messages)\n",
    "\n",
    "\n",
    "# 모델\n",
    "model = ChatOpenAI(model=\"gpt-4o-mini\")\n",
    "\n",
    "\n",
    "# output parser\n",
    "parser = StrOutputParser()\n",
    "\n",
    "# Chain 구성 retriever(관련문서 조회) -> prompt_template(prompt생성) -> model(정답) -> output parser\n",
    "chain = {\"context\":retriever, \"question\":RunnablePassthrough()} | prompt_template | model | parser\n"
   ]
  },
  {
   "cell_type": "code",
   "execution_count": 6,
   "metadata": {},
   "outputs": [
    {
     "name": "stdout",
     "output_type": "stream",
     "text": [
      "질문: 울산의 정책 간략히 알려줘\n",
      "답변 울산의 정책은 다음과 같이 분류할 수 있습니다:\n",
      "\n",
      "1. **주거 분야**\n",
      "   - **신축 매입약정형 임대주택 공급사업**: 청년과 신혼부부를 위한 공공주택 공급을 목표로 하며, 울산 전역에 120호의 임대주택을 공급합니다.\n",
      "\n",
      "2. **일자리 분야**\n",
      "   - **울산 남구 소상공인 경영주치의(컨설팅)사업**: 소상공인을 위한 맞춤형 컨설팅을 제공하여 경영 문제를 해결합니다.\n",
      "   - **울산웹툰캠퍼스 운영**: 만화 및 웹툰 작가를 위한 공간과 프로그램을 운영하여 지역 만화산업을 육성합니다.\n",
      "\n",
      "3. **교육 분야**\n",
      "   - **고졸인재 성장경로 구축**: 그린모빌리티 관련 교육과정을 운영하고, 직업 교육 협력체계를 구축합니다.\n",
      "   - **울산콘텐츠코리아랩 운영**: 콘텐츠 창작자를 위한 시설과 프로그램을 제공하여 창작 및 창업을 지원합니다.\n",
      "\n",
      "4. **참여 및 권리 분야**\n",
      "   - **울산 중구 청년정책 민·관 협력 활성화**: 청년들이 살고, 놀고, 일할 수 있는 환경을 조성합니다.\n",
      "\n",
      "이 외에도 다양한 정책들이 시행되고 있으며, 각 정책은 청년과 소상공인, 지역 산업의 발전을 목표로 하고 있습니다.\n",
      "==================================================\n",
      "질문: 부산의 정책 간략히 알려줘\n",
      "답변 부산에서 시행되는 정책 중 일부는 다음과 같습니다:\n",
      "\n",
      "1. **울산 보호종료아동 자립수당**: 보호종료 아동에게 매월 50만원의 자립수당을 지급하여 경제적 부담을 완화하고 성공적인 자립을 지원합니다. 지원 기간은 보호 종료 후 최대 5년입니다.\n",
      "\n",
      "2. **울산 북구 지역 맞춤형 돌봄기능 강화**: 돌봄 수요가 많은 지역에 다함께돌봄센터 및 공동육아나눔터 인프라를 구축하여 방과 후 초등돌봄 공백을 해소하고 아동돌봄의 공공성을 강화합니다.\n",
      "\n",
      "3. **울산 남구 청년주거급여 분리지급**: 수급가구 내 부모와 떨어져 사는 청년에게 별도로 주거급여를 지급하여 주거 안정성을 높입니다.\n",
      "\n",
      "4. **울산 매곡산업단지 복합개발사업**: 산업단지 근로자의 주거 불안을 해소하고 청년 창업을 연계할 수 있는 공공 임대주택을 공급하여 주거 안정 및 일자리 창출을 목표로 합니다.\n",
      "\n",
      "각 정책의 세부사항은 다를 수 있으며, 추가 정보가 필요하시면 특정 정책에 대해 문의해 주시기 바랍니다.\n",
      "==================================================\n",
      "질문: 울산의 주거분야 정책 간략히 알려줘\n",
      "답변 울산의 주거분야 정책은 주로 청년 및 신혼부부의 주거비 부담을 줄이고 주거 안정을 도모하기 위해 다양한 임대주택 공급 사업을 추진하고 있습니다. 주요 정책은 다음과 같습니다:\n",
      "\n",
      "1. **신축 매입약정형 임대주택 공급사업**: 청년(80호) 및 신혼부부(40호)에게 임대주택을 공급하며, 사업기간은 2024년 1월부터 2025년 7월까지입니다.\n",
      "\n",
      "2. **청년주거급여 분리지급**: 부모와 떨어져 사는 청년에게 별도로 주거급여를 지급하여 주거비 부담을 경감합니다.\n",
      "\n",
      "3. **청년희망주택 건립사업**: 청년가구의 주거 만족도를 높이기 위해 특화된 설계로 청년희망주택을 건립합니다.\n",
      "\n",
      "4. **행복주택 공급 지원**: 사회초년생 및 신혼부부를 위한 저렴한 공공임대주택을 확대하여 주거 안정을 도모합니다.\n",
      "\n",
      "이외에도 울산 북구와 남구에서 청년 및 근로자를 위한 다양한 주거 정책이 운영되고 있으며, 지속적으로 주거 안정성을 높이기 위한 노력이 이루어지고 있습니다.\n",
      "==================================================\n",
      "질문: 부산과 울산 정책 차이를 알려줘\n",
      "답변 주어진 문서에는 부산에 대한 정책 정보가 포함되어 있지 않으므로, 부산과 울산 정책의 차이에 대해서는 알 수 없습니다. 부산 정책에 대한 정보가 필요하다면, 관련 자료를 제공해주시면 비교할 수 있을 것입니다.\n",
      "==================================================\n"
     ]
    }
   ],
   "source": [
    "while True:\n",
    "    query = input()\n",
    "    if query == '!q':\n",
    "        break\n",
    "    print('질문:', query) \n",
    "    result = chain.invoke(query)\n",
    "    print('답변:', result)\n",
    "    print('='*50)\n"
   ]
  },
  {
   "cell_type": "code",
   "execution_count": null,
   "metadata": {},
   "outputs": [],
   "source": []
  }
 ],
 "metadata": {
  "kernelspec": {
   "display_name": "langchain2",
   "language": "python",
   "name": "python3"
  },
  "language_info": {
   "codemirror_mode": {
    "name": "ipython",
    "version": 3
   },
   "file_extension": ".py",
   "mimetype": "text/x-python",
   "name": "python",
   "nbconvert_exporter": "python",
   "pygments_lexer": "ipython3",
   "version": "3.12.8"
  }
 },
 "nbformat": 4,
 "nbformat_minor": 2
}
